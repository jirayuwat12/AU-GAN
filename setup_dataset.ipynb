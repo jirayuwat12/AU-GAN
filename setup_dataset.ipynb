{
 "cells": [
  {
   "cell_type": "code",
   "execution_count": 42,
   "metadata": {},
   "outputs": [],
   "source": [
    "LABEL_ZIP_PATH = './bdd100k_labels_release.zip'\n",
    "DATASET_ZIP_PATH = './bdd100k_images_10k.zip'\n",
    "\n",
    "UNZIP_PATH = './raw_unzip'"
   ]
  },
  {
   "cell_type": "markdown",
   "metadata": {},
   "source": [
    "# Extract zip file"
   ]
  },
  {
   "cell_type": "code",
   "execution_count": 43,
   "metadata": {},
   "outputs": [],
   "source": [
    "import zipfile"
   ]
  },
  {
   "cell_type": "code",
   "execution_count": 44,
   "metadata": {},
   "outputs": [],
   "source": [
    "# extract zip file\n",
    "with zipfile.ZipFile(LABEL_ZIP_PATH, 'r') as zip_ref:\n",
    "    zip_ref.extractall(UNZIP_PATH, )\n",
    "with zipfile.ZipFile(DATASET_ZIP_PATH, 'r') as zip_ref:\n",
    "    zip_ref.extractall(UNZIP_PATH)"
   ]
  },
  {
   "cell_type": "markdown",
   "metadata": {},
   "source": [
    "# Move image to data\n",
    "- folder `A` is night image\n",
    "- folder `B` is day image"
   ]
  },
  {
   "cell_type": "code",
   "execution_count": 45,
   "metadata": {},
   "outputs": [],
   "source": [
    "# load label json file\n",
    "import json\n",
    "import os\n",
    "from tqdm import tqdm\n",
    "import shutil\n",
    "import random\n",
    "\n",
    "TRAIN_LABEL_PATH = os.path.join(UNZIP_PATH, 'bdd100k', 'labels', 'bdd100k_labels_images_train.json')\n",
    "VAL_LABEL_PATH = os.path.join(UNZIP_PATH, 'bdd100k', 'labels', 'bdd100k_labels_images_val.json')\n",
    "SOURCE_PATH = os.path.join(UNZIP_PATH, 'bdd100k', 'images', '10K')\n",
    "DATASET_NAME = 'BDD100K'\n",
    "TRAIN_TEST_SPLIT_RATIO = 0.8"
   ]
  },
  {
   "cell_type": "code",
   "execution_count": 52,
   "metadata": {},
   "outputs": [],
   "source": [
    "# clear dataset folder\n",
    "if os.path.exists(os.path.join('datasets', DATASET_NAME)):\n",
    "    shutil.rmtree(os.path.join('datasets', DATASET_NAME))"
   ]
  },
  {
   "cell_type": "code",
   "execution_count": 46,
   "metadata": {},
   "outputs": [],
   "source": [
    "# create dataset structure folder\n",
    "for path in [\n",
    "    'datasets',\n",
    "    os.path.join('datasets', DATASET_NAME),\n",
    "    os.path.join('datasets', DATASET_NAME, 'trainA'),\n",
    "    os.path.join('datasets', DATASET_NAME, 'trainB'),\n",
    "    os.path.join('datasets', DATASET_NAME, 'testA'),\n",
    "    os.path.join('datasets', DATASET_NAME, 'testB')\n",
    "]:\n",
    "    if not os.path.exists(path):\n",
    "        os.makedirs(path)"
   ]
  },
  {
   "cell_type": "code",
   "execution_count": 47,
   "metadata": {},
   "outputs": [],
   "source": [
    "train_label = json.load(open(TRAIN_LABEL_PATH))\n",
    "val_label = json.load(open(VAL_LABEL_PATH))"
   ]
  },
  {
   "cell_type": "code",
   "execution_count": 48,
   "metadata": {},
   "outputs": [],
   "source": [
    "image_label = dict()\n",
    "for label in train_label:\n",
    "    image_label[label['name']] = label['attributes']\n",
    "for label in val_label:\n",
    "    image_label[label['name']] = label['attributes']\n",
    "del train_label, val_label"
   ]
  },
  {
   "cell_type": "code",
   "execution_count": 49,
   "metadata": {},
   "outputs": [
    {
     "name": "stderr",
     "output_type": "stream",
     "text": [
      "test - ae7bcd76-00000000.jpg:   0%|          | 0/2000 [00:00<?, ?image/s]"
     ]
    },
    {
     "name": "stderr",
     "output_type": "stream",
     "text": [
      "test - fffc7bba-f05de9f5.jpg: 100%|██████████| 2000/2000 [00:04<00:00, 482.75image/s]\n",
      "train - ff3da814-c3463a43.jpg: 100%|██████████| 7000/7000 [00:42<00:00, 163.79image/s]\n",
      "val - ff7b98c7-3cb964ac.jpg: 100%|██████████| 1000/1000 [00:02<00:00, 455.79image/s]\n"
     ]
    }
   ],
   "source": [
    "for subdir in os.listdir(SOURCE_PATH):\n",
    "    curr_path = os.path.join(SOURCE_PATH, subdir)\n",
    "\n",
    "    looper = tqdm(os.listdir(curr_path), desc=subdir, unit='image')\n",
    "    for image in looper:\n",
    "        looper.set_description(f'{subdir} - {image}')\n",
    "        looper.refresh()\n",
    "\n",
    "        if image not in image_label:\n",
    "            continue\n",
    "        \n",
    "        label = image_label[image]\n",
    "        if label['timeofday'] == 'daytime':\n",
    "            if random.random() < TRAIN_TEST_SPLIT_RATIO:\n",
    "                shutil.copy(os.path.join(curr_path, image), os.path.join('datasets', DATASET_NAME, 'trainB', image))\n",
    "            else:\n",
    "                shutil.copy(os.path.join(curr_path, image), os.path.join('datasets', DATASET_NAME, 'testB', image))\n",
    "        elif label['timeofday'] == 'night':\n",
    "            if random.random() < TRAIN_TEST_SPLIT_RATIO:\n",
    "                shutil.copy(os.path.join(curr_path, image), os.path.join('datasets', DATASET_NAME, 'trainA', image))\n",
    "            else:\n",
    "                shutil.copy(os.path.join(curr_path, image), os.path.join('datasets', DATASET_NAME, 'testA', image))"
   ]
  },
  {
   "cell_type": "markdown",
   "metadata": {},
   "source": [
    "# Clear unused folder"
   ]
  },
  {
   "cell_type": "code",
   "execution_count": 50,
   "metadata": {},
   "outputs": [],
   "source": [
    "# remove raw unzip folder\n",
    "shutil.rmtree(UNZIP_PATH)"
   ]
  }
 ],
 "metadata": {
  "kernelspec": {
   "display_name": "augan",
   "language": "python",
   "name": "python3"
  },
  "language_info": {
   "codemirror_mode": {
    "name": "ipython",
    "version": 3
   },
   "file_extension": ".py",
   "mimetype": "text/x-python",
   "name": "python",
   "nbconvert_exporter": "python",
   "pygments_lexer": "ipython3",
   "version": "3.6.13"
  }
 },
 "nbformat": 4,
 "nbformat_minor": 2
}
